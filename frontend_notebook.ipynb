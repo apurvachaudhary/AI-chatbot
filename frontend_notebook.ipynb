!pip install requests
import requests

# FastAPI Backend URL
BASE_URL = "http://localhost:8000/chat/"

# Example query
query = "Show me all products under brand X"

response = requests.post(BASE_URL, json={"query": query})
print(response.json())  # To see the chatbot's response
